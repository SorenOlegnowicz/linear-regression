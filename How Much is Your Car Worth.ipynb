{
 "cells": [
  {
   "cell_type": "code",
   "execution_count": 12,
   "metadata": {
    "collapsed": true
   },
   "outputs": [],
   "source": [
    "import pandas as pd\n",
    "import matplotlib.pyplot as plt\n",
    "import numpy as np\n",
    "from sklearn import linear_model"
   ]
  },
  {
   "cell_type": "code",
   "execution_count": 13,
   "metadata": {
    "collapsed": true
   },
   "outputs": [],
   "source": [
    "% matplotlib inline"
   ]
  },
  {
   "cell_type": "markdown",
   "metadata": {},
   "source": [
    "# How Much is Your Car Worth?\n",
    "\n",
    "Data about the retail price of 2005 General Motors cars can be found in `car_data.csv`.\n",
    "\n",
    "The columns are:\n",
    "\n",
    "1. Price: suggested retail price of the used 2005 GM car in excellent condition.\n",
    "2. Mileage: number of miles the car has been driven\n",
    "3. Make: manufacturer of the car such as Saturn, Pontiac, and Chevrolet\n",
    "4. Model: specific models for each car manufacturer such as Ion, Vibe, Cavalier\n",
    "5. Trim (of car): specific type of car model such as SE Sedan 4D, Quad Coupe 2D          \n",
    "6. Type: body type such as sedan, coupe, etc.      \n",
    "7. Cylinder: number of cylinders in the engine        \n",
    "8. Liter: a more specific measure of engine size     \n",
    "9. Doors: number of doors           \n",
    "10. Cruise: indicator variable representing whether the car has cruise control (1 = cruise)\n",
    "11. Sound: indicator variable representing whether the car has upgraded speakers (1 = upgraded)\n",
    "12. Leather: indicator variable representing whether the car has leather seats (1 = leather)\n",
    "\n",
    "## Tasks, Part 1\n",
    "\n",
    "1. Find the linear regression equation for mileage vs price.\n",
    "2. Chart the original data and the equation on the chart.\n",
    "3. Find the equation's $R^2$ score (use the `.score` method) to determine whether the\n",
    "equation is a good fit for this data. (0.8 and greater is considered a strong correlation.)\n",
    "\n",
    "## Tasks, Part 2\n",
    "\n",
    "1. Use mileage, cylinders, liters, doors, cruise, sound, and leather to find the linear regression equation.\n",
    "2. Find the equation's $R^2$ score (use the `.score` method) to determine whether the\n",
    "equation is a good fit for this data. (0.8 and greater is considered a strong correlation.)\n",
    "3. Find the combination of the factors that is the best predictor for price.\n",
    "\n",
    "## Tasks, Hard Mode\n",
    "\n",
    "1. Research dummy variables in scikit-learn to see how to use the make, model, and body type.\n",
    "2. Find the best combination of factors to predict price."
   ]
  },
  {
   "cell_type": "code",
   "execution_count": 62,
   "metadata": {
    "collapsed": false
   },
   "outputs": [
    {
     "data": {
      "text/html": [
       "<div style=\"max-height:1000px;max-width:1500px;overflow:auto;\">\n",
       "<table border=\"1\" class=\"dataframe\">\n",
       "  <thead>\n",
       "    <tr style=\"text-align: right;\">\n",
       "      <th></th>\n",
       "      <th>Price</th>\n",
       "      <th>Mileage</th>\n",
       "      <th>Make</th>\n",
       "      <th>Model</th>\n",
       "      <th>Trim</th>\n",
       "      <th>Type</th>\n",
       "      <th>Cylinder</th>\n",
       "      <th>Liter</th>\n",
       "      <th>Doors</th>\n",
       "      <th>Cruise</th>\n",
       "      <th>Sound</th>\n",
       "      <th>Leather</th>\n",
       "    </tr>\n",
       "  </thead>\n",
       "  <tbody>\n",
       "    <tr>\n",
       "      <th>0</th>\n",
       "      <td>17314.103129</td>\n",
       "      <td>8221</td>\n",
       "      <td>Buick</td>\n",
       "      <td>Century</td>\n",
       "      <td>Sedan 4D</td>\n",
       "      <td>Sedan</td>\n",
       "      <td>6</td>\n",
       "      <td>3.1</td>\n",
       "      <td>4</td>\n",
       "      <td>1</td>\n",
       "      <td>1</td>\n",
       "      <td>1</td>\n",
       "    </tr>\n",
       "    <tr>\n",
       "      <th>1</th>\n",
       "      <td>17542.036083</td>\n",
       "      <td>9135</td>\n",
       "      <td>Buick</td>\n",
       "      <td>Century</td>\n",
       "      <td>Sedan 4D</td>\n",
       "      <td>Sedan</td>\n",
       "      <td>6</td>\n",
       "      <td>3.1</td>\n",
       "      <td>4</td>\n",
       "      <td>1</td>\n",
       "      <td>1</td>\n",
       "      <td>0</td>\n",
       "    </tr>\n",
       "    <tr>\n",
       "      <th>2</th>\n",
       "      <td>16218.847862</td>\n",
       "      <td>13196</td>\n",
       "      <td>Buick</td>\n",
       "      <td>Century</td>\n",
       "      <td>Sedan 4D</td>\n",
       "      <td>Sedan</td>\n",
       "      <td>6</td>\n",
       "      <td>3.1</td>\n",
       "      <td>4</td>\n",
       "      <td>1</td>\n",
       "      <td>1</td>\n",
       "      <td>0</td>\n",
       "    </tr>\n",
       "    <tr>\n",
       "      <th>3</th>\n",
       "      <td>16336.913140</td>\n",
       "      <td>16342</td>\n",
       "      <td>Buick</td>\n",
       "      <td>Century</td>\n",
       "      <td>Sedan 4D</td>\n",
       "      <td>Sedan</td>\n",
       "      <td>6</td>\n",
       "      <td>3.1</td>\n",
       "      <td>4</td>\n",
       "      <td>1</td>\n",
       "      <td>0</td>\n",
       "      <td>0</td>\n",
       "    </tr>\n",
       "    <tr>\n",
       "      <th>4</th>\n",
       "      <td>16339.170324</td>\n",
       "      <td>19832</td>\n",
       "      <td>Buick</td>\n",
       "      <td>Century</td>\n",
       "      <td>Sedan 4D</td>\n",
       "      <td>Sedan</td>\n",
       "      <td>6</td>\n",
       "      <td>3.1</td>\n",
       "      <td>4</td>\n",
       "      <td>1</td>\n",
       "      <td>0</td>\n",
       "      <td>1</td>\n",
       "    </tr>\n",
       "  </tbody>\n",
       "</table>\n",
       "</div>"
      ],
      "text/plain": [
       "          Price  Mileage   Make    Model      Trim   Type  Cylinder  Liter  \\\n",
       "0  17314.103129     8221  Buick  Century  Sedan 4D  Sedan         6    3.1   \n",
       "1  17542.036083     9135  Buick  Century  Sedan 4D  Sedan         6    3.1   \n",
       "2  16218.847862    13196  Buick  Century  Sedan 4D  Sedan         6    3.1   \n",
       "3  16336.913140    16342  Buick  Century  Sedan 4D  Sedan         6    3.1   \n",
       "4  16339.170324    19832  Buick  Century  Sedan 4D  Sedan         6    3.1   \n",
       "\n",
       "   Doors  Cruise  Sound  Leather  \n",
       "0      4       1      1        1  \n",
       "1      4       1      1        0  \n",
       "2      4       1      1        0  \n",
       "3      4       1      0        0  \n",
       "4      4       1      0        1  "
      ]
     },
     "execution_count": 62,
     "metadata": {},
     "output_type": "execute_result"
    }
   ],
   "source": [
    "df1 = pd.read_csv(\"car_data.csv\")\n",
    "df1.head()"
   ]
  },
  {
   "cell_type": "code",
   "execution_count": 47,
   "metadata": {
    "collapsed": false
   },
   "outputs": [
    {
     "data": {
      "text/plain": [
       "'Percent of the Variance explained: 2.05%'"
      ]
     },
     "execution_count": 47,
     "metadata": {},
     "output_type": "execute_result"
    }
   ],
   "source": [
    "def linear_explanation_2(dependent, independent, data, var=True):\n",
    "    x = data[[dependent]]\n",
    "    y = data[independent]\n",
    "    regres = linear_model.LinearRegression()\n",
    "    regres.fit(x,y)\n",
    "    if var:\n",
    "        return 'Percent of the Variance explained: {}%'.format(round(regres.score(x,y) * 100, 2))\n",
    "    else:\n",
    "        return (plt.scatter(x, y, color='c',label=(dependent, independent)), plt.plot(x, regres.predict(x)))\n",
    "\n",
    "linear_explanation_2('Mileage', 'Price', df)"
   ]
  },
  {
   "cell_type": "code",
   "execution_count": 48,
   "metadata": {
    "collapsed": false
   },
   "outputs": [
    {
     "data": {
      "text/plain": [
       "'Percent of the Variance explained: 2.05%'"
      ]
     },
     "execution_count": 48,
     "metadata": {},
     "output_type": "execute_result"
    },
    {
     "data": {
      "image/png": "[encoded data removed]",
      "text/plain": [
       "<matplotlib.figure.Figure at 0x10ea84908>"
      ]
     },
     "metadata": {},
     "output_type": "display_data"
    }
   ],
   "source": [
    "\n",
    "linear_explanation_2('Mileage', 'Price', df, var=False)\n",
    "linear_explanation_2('Mileage', 'Price', df)"
   ]
  },
  {
   "cell_type": "markdown",
   "metadata": {},
   "source": [
    "Linear Regression doesn't seem able to make the data much clearer. We might want to think of another way of approaching this data."
   ]
  },
  {
   "cell_type": "code",
   "execution_count": 76,
   "metadata": {
    "collapsed": false
   },
   "outputs": [],
   "source": [
    "mileage = df[['Mileage', 'Cylinder']]\n",
    "cylinders = df[['Cylinder']]\n",
    "liters = df[['Liter']]\n",
    "doors = df[['Doors']]\n",
    "cruise = df[['Cruise']]\n",
    "sound = df[['Sound']]\n",
    "leather = df[['Leather']]\n",
    "price = df['Price']"
   ]
  },
  {
   "cell_type": "code",
   "execution_count": 77,
   "metadata": {
    "collapsed": false
   },
   "outputs": [
    {
     "data": {
      "text/plain": [
       "LinearRegression(copy_X=True, fit_intercept=True, n_jobs=1, normalize=False)"
      ]
     },
     "execution_count": 77,
     "metadata": {},
     "output_type": "execute_result"
    }
   ],
   "source": [
    "mile_c = df[['Mileage', 'Cylinder', 'Liter', 'Doors', 'Cruise', 'Sound', 'Leather']]\n",
    "regc = linear_model.LinearRegression()\n",
    "regc.fit(mileage, price)"
   ]
  },
  {
   "cell_type": "code",
   "execution_count": 55,
   "metadata": {
    "collapsed": false
   },
   "outputs": [
    {
     "data": {
      "text/plain": [
       "0.34228021178720835"
      ]
     },
     "execution_count": 55,
     "metadata": {},
     "output_type": "execute_result"
    }
   ],
   "source": [
    "regc.score(mile_c,price)"
   ]
  },
  {
   "cell_type": "code",
   "execution_count": null,
   "metadata": {
    "collapsed": true
   },
   "outputs": [],
   "source": []
  },
  {
   "cell_type": "code",
   "execution_count": 68,
   "metadata": {
    "collapsed": true
   },
   "outputs": [],
   "source": [
    "def linear_explanation(dependent, independent, data):\n",
    "    x = data[dependent]\n",
    "    y = data[independent]\n",
    "    regres = linear_model.LinearRegression()\n",
    "    regres.fit(x,y)\n",
    "    return 'Percent of the Variance explained: {}%'.format(round(regres.score(x,y) * 100, 2))"
   ]
  },
  {
   "cell_type": "code",
   "execution_count": 69,
   "metadata": {
    "collapsed": false
   },
   "outputs": [
    {
     "data": {
      "text/plain": [
       "'Percent of the Variance explained: 33.98%'"
      ]
     },
     "execution_count": 69,
     "metadata": {},
     "output_type": "execute_result"
    }
   ],
   "source": [
    "linear_explanation(['Mileage', 'Cylinder'], 'Price', df1)"
   ]
  },
  {
   "cell_type": "code",
   "execution_count": 75,
   "metadata": {
    "collapsed": false
   },
   "outputs": [
    {
     "name": "stdout",
     "output_type": "stream",
     "text": [
      "Percent of the Variance explained: 33.98% ('Mileage', 'Cylinder')\n",
      "Percent of the Variance explained: 32.91% ('Mileage', 'Liter')\n",
      "Percent of the Variance explained: 4.04% ('Mileage', 'Doors')\n",
      "Percent of the Variance explained: 20.93% ('Mileage', 'Cruise')\n",
      "Percent of the Variance explained: 3.69% ('Mileage', 'Sound')\n",
      "Percent of the Variance explained: 4.52% ('Mileage', 'Leather')\n",
      "Percent of the Variance explained: 32.59% ('Cylinder', 'Liter')\n",
      "Percent of the Variance explained: 34.35% ('Cylinder', 'Doors')\n",
      "Percent of the Variance explained: 38.39% ('Cylinder', 'Cruise')\n",
      "Percent of the Variance explained: 32.93% ('Cylinder', 'Sound')\n",
      "Percent of the Variance explained: 33.7% ('Cylinder', 'Leather')\n",
      "Percent of the Variance explained: 32.05% ('Liter', 'Doors')\n",
      "Percent of the Variance explained: 36.8% ('Liter', 'Cruise')\n",
      "Percent of the Variance explained: 31.93% ('Liter', 'Sound')\n",
      "Percent of the Variance explained: 32.34% ('Liter', 'Leather')\n",
      "Percent of the Variance explained: 19.96% ('Doors', 'Cruise')\n",
      "Percent of the Variance explained: 3.7% ('Doors', 'Sound')\n",
      "Percent of the Variance explained: 4.14% ('Doors', 'Leather')\n",
      "Percent of the Variance explained: 19.29% ('Cruise', 'Sound')\n",
      "Percent of the Variance explained: 22.1% ('Cruise', 'Leather')\n",
      "Percent of the Variance explained: 4.8% ('Sound', 'Leather')\n"
     ]
    }
   ],
   "source": [
    "for i in combos:\n",
    "    print(linear_explanation(list(i), 'Price', df1) + ' {}'.format(i))"
   ]
  },
  {
   "cell_type": "markdown",
   "metadata": {},
   "source": [
    "#('Cylinder', 'Cruise') is the winner for most error resolved!"
   ]
  },
  {
   "cell_type": "code",
   "execution_count": 83,
   "metadata": {
    "collapsed": false
   },
   "outputs": [
    {
     "name": "stdout",
     "output_type": "stream",
     "text": [
      "[('Mileage', 'Cylinder', 'Liter', 'Doors', 'Cruise', 'Sound', 'Leather')]\n"
     ]
    }
   ],
   "source": [
    "import itertools\n",
    "dependent_vars = ['Mileage', 'Cylinder', 'Liter', 'Doors', 'Cruise', 'Sound', 'Leather']\n",
    "combos = list(itertools.combinations(dependent_vars, 2))\n"
   ]
  },
  {
   "cell_type": "code",
   "execution_count": null,
   "metadata": {
    "collapsed": false
   },
   "outputs": [],
   "source": [
    "choices = []\n",
    "\n",
    "def regression_for(combo):\n",
    "    combo = list(combo)\n",
    "    df = df1.loc[:, combo + ['Life expectancy at birth, total (years)']]\n",
    "    df.dropna(inplace=True)\n",
    "    input_data = df[combo]\n",
    "    life_expectancy = df['Life expectancy at birth, total (years)']\n",
    "    regr = linear_model.LinearRegression()\n",
    "    regr.fit(input_data, life_expectancy)\n",
    "    return regr, regr.score(input_data, life_expectancy)\n",
    "\n",
    "for combo in combos:\n",
    "    regr, score = regression_for(combo)\n",
    "    choices.append((combo, score))\n",
    "                   \n",
    "best = sorted(choices, key=lambda x: x[1])[-1]\n",
    "print(best)\n",
    "regr, score = regression_for(best[0])\n",
    "print(regr.coef_, regr.intercept_)"
   ]
  },
  {
   "cell_type": "code",
   "execution_count": 74,
   "metadata": {
    "collapsed": false
   },
   "outputs": [
    {
     "name": "stdout",
     "output_type": "stream",
     "text": [
      "Percent of the Variance explained: 33.98% ('Mileage', 'Cylinder')\n",
      "Percent of the Variance explained: 32.91% ('Mileage', 'Liter')\n",
      "Percent of the Variance explained: 4.04% ('Mileage', 'Doors')\n",
      "Percent of the Variance explained: 20.93% ('Mileage', 'Cruise')\n",
      "Percent of the Variance explained: 3.69% ('Mileage', 'Sound')\n",
      "Percent of the Variance explained: 4.52% ('Mileage', 'Leather')\n",
      "Percent of the Variance explained: 32.59% ('Cylinder', 'Liter')\n",
      "Percent of the Variance explained: 34.35% ('Cylinder', 'Doors')\n",
      "Percent of the Variance explained: 38.39% ('Cylinder', 'Cruise')\n",
      "Percent of the Variance explained: 32.93% ('Cylinder', 'Sound')\n",
      "Percent of the Variance explained: 33.7% ('Cylinder', 'Leather')\n",
      "Percent of the Variance explained: 32.05% ('Liter', 'Doors')\n",
      "Percent of the Variance explained: 36.8% ('Liter', 'Cruise')\n",
      "Percent of the Variance explained: 31.93% ('Liter', 'Sound')\n",
      "Percent of the Variance explained: 32.34% ('Liter', 'Leather')\n",
      "Percent of the Variance explained: 19.96% ('Doors', 'Cruise')\n",
      "Percent of the Variance explained: 3.7% ('Doors', 'Sound')\n",
      "Percent of the Variance explained: 4.14% ('Doors', 'Leather')\n",
      "Percent of the Variance explained: 19.29% ('Cruise', 'Sound')\n",
      "Percent of the Variance explained: 22.1% ('Cruise', 'Leather')\n",
      "Percent of the Variance explained: 4.8% ('Sound', 'Leather')\n"
     ]
    }
   ],
   "source": [
    "for i in combos:\n",
    "    print(linear_explanation(list(i), 'Price', df1) + ' {}'.format(i))"
   ]
  },
  {
   "cell_type": "markdown",
   "metadata": {},
   "source": [
    "#For fun:"
   ]
  },
  {
   "cell_type": "code",
   "execution_count": 81,
   "metadata": {
    "collapsed": true
   },
   "outputs": [],
   "source": [
    "df2 = df1[dependent_vars]"
   ]
  },
  {
   "cell_type": "code",
   "execution_count": 82,
   "metadata": {
    "collapsed": false
   },
   "outputs": [
    {
     "ename": "ValueError",
     "evalue": "shapes (804,7) and (2,) not aligned: 7 (dim 1) != 2 (dim 0)",
     "output_type": "error",
     "traceback": [
      "\u001b[0;31m---------------------------------------------------------------------------\u001b[0m",
      "\u001b[0;31mValueError\u001b[0m                                Traceback (most recent call last)",
      "\u001b[0;32m<ipython-input-82-286ecae3bee7>\u001b[0m in \u001b[0;36m<module>\u001b[0;34m()\u001b[0m\n\u001b[1;32m      5\u001b[0m \u001b[0myy\u001b[0m \u001b[0;34m=\u001b[0m \u001b[0mdf2\u001b[0m\u001b[0;34m[\u001b[0m\u001b[0;34m'Cylinder'\u001b[0m\u001b[0;34m]\u001b[0m\u001b[0;34m\u001b[0m\u001b[0m\n\u001b[1;32m      6\u001b[0m \u001b[0mzz\u001b[0m \u001b[0;34m=\u001b[0m \u001b[0mprice\u001b[0m\u001b[0;34m\u001b[0m\u001b[0m\n\u001b[0;32m----> 7\u001b[0;31m \u001b[0mpredict\u001b[0m \u001b[0;34m=\u001b[0m \u001b[0mregc\u001b[0m\u001b[0;34m.\u001b[0m\u001b[0mpredict\u001b[0m\u001b[0;34m(\u001b[0m\u001b[0mdf2\u001b[0m\u001b[0;34m)\u001b[0m\u001b[0;34m\u001b[0m\u001b[0m\n\u001b[0m\u001b[1;32m      8\u001b[0m \u001b[0mx_surf\u001b[0m\u001b[0;34m,\u001b[0m \u001b[0my_surf\u001b[0m \u001b[0;34m=\u001b[0m \u001b[0mnp\u001b[0m\u001b[0;34m.\u001b[0m\u001b[0mmeshgrid\u001b[0m\u001b[0;34m(\u001b[0m\u001b[0mxx\u001b[0m\u001b[0;34m,\u001b[0m \u001b[0myy\u001b[0m\u001b[0;34m)\u001b[0m\u001b[0;34m\u001b[0m\u001b[0m\n\u001b[1;32m      9\u001b[0m \u001b[0max\u001b[0m\u001b[0;34m.\u001b[0m\u001b[0mplot_surface\u001b[0m\u001b[0;34m(\u001b[0m\u001b[0mx_surf\u001b[0m\u001b[0;34m,\u001b[0m \u001b[0my_surf\u001b[0m\u001b[0;34m,\u001b[0m \u001b[0mpredict\u001b[0m\u001b[0;34m,\u001b[0m \u001b[0mcolor\u001b[0m\u001b[0;34m=\u001b[0m\u001b[0;34m\"red\"\u001b[0m\u001b[0;34m,\u001b[0m \u001b[0malpha\u001b[0m\u001b[0;34m=\u001b[0m\u001b[0;36m0.1\u001b[0m\u001b[0;34m)\u001b[0m\u001b[0;34m\u001b[0m\u001b[0m\n",
      "\u001b[0;32m/Users/sorenolegnowicz/cs/python/projects/linear-regression/.direnv/python-3.4.3/lib/python3.4/site-packages/sklearn/linear_model/base.py\u001b[0m in \u001b[0;36mpredict\u001b[0;34m(self, X)\u001b[0m\n\u001b[1;32m    153\u001b[0m             \u001b[0mReturns\u001b[0m \u001b[0mpredicted\u001b[0m \u001b[0mvalues\u001b[0m\u001b[0;34m.\u001b[0m\u001b[0;34m\u001b[0m\u001b[0m\n\u001b[1;32m    154\u001b[0m         \"\"\"\n\u001b[0;32m--> 155\u001b[0;31m         \u001b[0;32mreturn\u001b[0m \u001b[0mself\u001b[0m\u001b[0;34m.\u001b[0m\u001b[0mdecision_function\u001b[0m\u001b[0;34m(\u001b[0m\u001b[0mX\u001b[0m\u001b[0;34m)\u001b[0m\u001b[0;34m\u001b[0m\u001b[0m\n\u001b[0m\u001b[1;32m    156\u001b[0m \u001b[0;34m\u001b[0m\u001b[0m\n\u001b[1;32m    157\u001b[0m     \u001b[0m_center_data\u001b[0m \u001b[0;34m=\u001b[0m \u001b[0mstaticmethod\u001b[0m\u001b[0;34m(\u001b[0m\u001b[0mcenter_data\u001b[0m\u001b[0;34m)\u001b[0m\u001b[0;34m\u001b[0m\u001b[0m\n",
      "\u001b[0;32m/Users/sorenolegnowicz/cs/python/projects/linear-regression/.direnv/python-3.4.3/lib/python3.4/site-packages/sklearn/linear_model/base.py\u001b[0m in \u001b[0;36mdecision_function\u001b[0;34m(self, X)\u001b[0m\n\u001b[1;32m    138\u001b[0m         \u001b[0mX\u001b[0m \u001b[0;34m=\u001b[0m \u001b[0mcheck_array\u001b[0m\u001b[0;34m(\u001b[0m\u001b[0mX\u001b[0m\u001b[0;34m,\u001b[0m \u001b[0maccept_sparse\u001b[0m\u001b[0;34m=\u001b[0m\u001b[0;34m[\u001b[0m\u001b[0;34m'csr'\u001b[0m\u001b[0;34m,\u001b[0m \u001b[0;34m'csc'\u001b[0m\u001b[0;34m,\u001b[0m \u001b[0;34m'coo'\u001b[0m\u001b[0;34m]\u001b[0m\u001b[0;34m)\u001b[0m\u001b[0;34m\u001b[0m\u001b[0m\n\u001b[1;32m    139\u001b[0m         return safe_sparse_dot(X, self.coef_.T,\n\u001b[0;32m--> 140\u001b[0;31m                                dense_output=True) + self.intercept_\n\u001b[0m\u001b[1;32m    141\u001b[0m \u001b[0;34m\u001b[0m\u001b[0m\n\u001b[1;32m    142\u001b[0m     \u001b[0;32mdef\u001b[0m \u001b[0mpredict\u001b[0m\u001b[0;34m(\u001b[0m\u001b[0mself\u001b[0m\u001b[0;34m,\u001b[0m \u001b[0mX\u001b[0m\u001b[0;34m)\u001b[0m\u001b[0;34m:\u001b[0m\u001b[0;34m\u001b[0m\u001b[0m\n",
      "\u001b[0;32m/Users/sorenolegnowicz/cs/python/projects/linear-regression/.direnv/python-3.4.3/lib/python3.4/site-packages/sklearn/utils/extmath.py\u001b[0m in \u001b[0;36msafe_sparse_dot\u001b[0;34m(a, b, dense_output)\u001b[0m\n\u001b[1;32m    181\u001b[0m         \u001b[0;32mreturn\u001b[0m \u001b[0mret\u001b[0m\u001b[0;34m\u001b[0m\u001b[0m\n\u001b[1;32m    182\u001b[0m     \u001b[0;32melse\u001b[0m\u001b[0;34m:\u001b[0m\u001b[0;34m\u001b[0m\u001b[0m\n\u001b[0;32m--> 183\u001b[0;31m         \u001b[0;32mreturn\u001b[0m \u001b[0mfast_dot\u001b[0m\u001b[0;34m(\u001b[0m\u001b[0ma\u001b[0m\u001b[0;34m,\u001b[0m \u001b[0mb\u001b[0m\u001b[0;34m)\u001b[0m\u001b[0;34m\u001b[0m\u001b[0m\n\u001b[0m\u001b[1;32m    184\u001b[0m \u001b[0;34m\u001b[0m\u001b[0m\n\u001b[1;32m    185\u001b[0m \u001b[0;34m\u001b[0m\u001b[0m\n",
      "\u001b[0;31mValueError\u001b[0m: shapes (804,7) and (2,) not aligned: 7 (dim 1) != 2 (dim 0)"
     ]
    },
    {
     "data": {
      "image/png": "[encoded data removed]",
      "text/plain": [
       "<matplotlib.figure.Figure at 0x10eeeb080>"
      ]
     },
     "metadata": {},
     "output_type": "display_data"
    }
   ],
   "source": [
    "from mpl_toolkits.mplot3d import Axes3D\n",
    "fig = plt.figure()\n",
    "ax = fig.add_subplot(111, projection='3d')\n",
    "xx = df2['Cruise']\n",
    "yy = df2['Cylinder']\n",
    "zz = price\n",
    "predict = regc.predict(df2)\n",
    "x_surf, y_surf = np.meshgrid(xx, yy)\n",
    "ax.plot_surface(x_surf, y_surf, predict, color=\"red\", alpha=0.1)\n",
    "ax.scatter(xx, yy, zz)"
   ]
  },
  {
   "cell_type": "code",
   "execution_count": null,
   "metadata": {
    "collapsed": true
   },
   "outputs": [],
   "source": []
  }
 ],
 "metadata": {
  "kernelspec": {
   "display_name": "Python 3",
   "language": "python",
   "name": "python3"
  },
  "language_info": {
   "codemirror_mode": {
    "name": "ipython",
    "version": 3
   },
   "file_extension": ".py",
   "mimetype": "text/x-python",
   "name": "python",
   "nbconvert_exporter": "python",
   "pygments_lexer": "ipython3",
   "version": "3.4.3"
  }
 },
 "nbformat": 4,
 "nbformat_minor": 0
}
